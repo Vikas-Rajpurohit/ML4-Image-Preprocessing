{
 "cells": [
  {
   "cell_type": "markdown",
   "id": "9b07f533",
   "metadata": {},
   "source": [
    "## 1. Bitwise Operations\n",
    "- Bitwise AND (cv2.bitwise_and()): This operation performs a bitwise AND operation between corresponding pixels of two input images or masks. The result is obtained by setting each output pixel to 1 if both input pixels are non-zero; otherwise, the output pixel is set to 0.\n",
    "\n",
    "- Bitwise OR (cv2.bitwise_or()): The bitwise OR operation computes the element-wise OR of corresponding pixels in two input images or masks. The result is obtained by setting each output pixel to 1 if at least one of the input pixels is non-zero.\n",
    "\n",
    "- Bitwise XOR (cv2.bitwise_xor()): The bitwise XOR operation calculates the element-wise exclusive OR of corresponding pixels in two input images or masks. The result is obtained by setting each output pixel to 1 if only one of the input pixels is non-zero.\n",
    "\n",
    "- Bitwise NOT (cv2.bitwise_not()): The bitwise NOT operation inverts the bits of each pixel in the input image or mask. It performs a logical negation, setting each output pixel to the opposite value of the corresponding input pixel. In other words, 0 becomes 1, and 1 becomes 0."
   ]
  },
  {
   "cell_type": "code",
   "execution_count": 1,
   "id": "23bf700b",
   "metadata": {},
   "outputs": [],
   "source": [
    "import cv2\n",
    "import numpy as np"
   ]
  },
  {
   "cell_type": "code",
   "execution_count": 21,
   "id": "4a3277f1",
   "metadata": {},
   "outputs": [],
   "source": [
    "img1 = np.zeros([250,500,3], np.uint8)\n",
    "img1 = cv2.rectangle(img1, (150,100), (200,250), (255,255,255), -1)\n",
    "\n",
    "img2 = np.zeros([250,500,3], np.uint8)\n",
    "img2 = cv2.rectangle(img2, (10,10), (170,180), (255,255,255), -1)\n",
    "\n",
    "b_and = cv2.bitwise_and(img1,img2)\n",
    "b_or = cv2.bitwise_or(img1,img2)\n",
    "b_xor = cv2.bitwise_xor(img1,img2)\n",
    "n_img1 = cv2.bitwise_not(img1)\n",
    "n_img2 = cv2.bitwise_not(img2)\n",
    "\n",
    "# Create a layout grid\n",
    "top_row = cv2.hconcat([img1, n_img1])\n",
    "mid_row = cv2.hconcat([img2, n_img2])\n",
    "layout = cv2.vconcat([top_row, mid_row])\n",
    "\n",
    "cv2.imshow('Image Layout', layout)\n",
    "cv2.imshow('AND', b_and)\n",
    "cv2.imshow('OR', b_or)\n",
    "cv2.imshow('XOR', b_xor)\n",
    "\n",
    "cv2.waitKey(0)\n",
    "cv2.destroyAllWindows()"
   ]
  },
  {
   "cell_type": "code",
   "execution_count": null,
   "id": "66d6a723",
   "metadata": {},
   "outputs": [],
   "source": [
    " "
   ]
  }
 ],
 "metadata": {
  "kernelspec": {
   "display_name": "Python 3 (ipykernel)",
   "language": "python",
   "name": "python3"
  },
  "language_info": {
   "codemirror_mode": {
    "name": "ipython",
    "version": 3
   },
   "file_extension": ".py",
   "mimetype": "text/x-python",
   "name": "python",
   "nbconvert_exporter": "python",
   "pygments_lexer": "ipython3",
   "version": "3.10.4"
  }
 },
 "nbformat": 4,
 "nbformat_minor": 5
}
