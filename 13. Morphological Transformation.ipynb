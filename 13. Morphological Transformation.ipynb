{
 "cells": [
  {
   "cell_type": "markdown",
   "id": "72dcc40f",
   "metadata": {},
   "source": [
    "## Morphological Transformation\n",
    "- Morphological operations are based on the shape and structure of objects in an image rather than pixel values. They are particularly useful for tasks such as noise removal, object extraction, and image enhancement.\n",
    "- The two most fundamental morphological operations are erosion and dilation. Other operations include opening, closing, and gradient.\n",
    "- Many morphological operations in OpenCV can be applied iteratively, which allows for more aggressive or subtle transformations."
   ]
  },
  {
   "cell_type": "code",
   "execution_count": 1,
   "id": "8a9d1b43",
   "metadata": {},
   "outputs": [],
   "source": [
    "import cv2\n",
    "import numpy as np"
   ]
  },
  {
   "cell_type": "markdown",
   "id": "8dc7c9af",
   "metadata": {},
   "source": [
    "### 1. Erosion Clears Distortion Outside Image\n",
    "- Erosion is used to shrink or erode the boundaries of objects in an image. It achieves this by moving a structuring element (a predefined shape such as a rectangle or a circle) over the image and only preserving the pixels where the structuring element fully overlaps the object."
   ]
  },
  {
   "cell_type": "code",
   "execution_count": 29,
   "id": "25e2cb1a",
   "metadata": {},
   "outputs": [],
   "source": [
    "img = cv2.imread('Images/Image1.jpg',0)\n",
    "img = cv2.resize(img, (400,600))\n",
    "\n",
    "_, mask = cv2.threshold(img,100,255,cv2.THRESH_BINARY_INV)\n",
    "\n",
    "kernel = np.ones((5,5), np.uint8)\n",
    "e = cv2.erode(mask, kernel)\n",
    "\n",
    "cv2.imshow('Image', img)\n",
    "cv2.imshow('Mask', mask)\n",
    "cv2.imshow('Erode', e)\n",
    "\n",
    "cv2.waitKey(0)\n",
    "cv2.destroyAllWindows()"
   ]
  },
  {
   "cell_type": "markdown",
   "id": "6c623f27",
   "metadata": {},
   "source": [
    "### 2. Dilation Clears Distortion Inside Image\n",
    "- Dilation is used to expand or dilate the boundaries of objects. It works by moving the structuring element over the image and setting the pixels within the structuring element's area to the maximum value if at least one pixel within the structuring element overlaps with an object."
   ]
  },
  {
   "cell_type": "code",
   "execution_count": 36,
   "id": "2839ee6a",
   "metadata": {},
   "outputs": [],
   "source": [
    "img = cv2.imread('Images/Image1.jpg',0)\n",
    "img = cv2.resize(img, (400,600))\n",
    "\n",
    "_, mask = cv2.threshold(img,100,255,cv2.THRESH_BINARY_INV)\n",
    "\n",
    "kernel = np.ones((5,5), np.uint8)\n",
    "d = cv2.dilate(mask, kernel)\n",
    "\n",
    "cv2.imshow('Image', img)\n",
    "cv2.imshow('Mask', mask)\n",
    "cv2.imshow('Dilate', d)\n",
    "\n",
    "cv2.waitKey(0)\n",
    "cv2.destroyAllWindows()"
   ]
  },
  {
   "cell_type": "markdown",
   "id": "a660c02f",
   "metadata": {},
   "source": [
    "### 3. Opening \n",
    "- Opening is a morphological operation that combines erosion followed by dilation. It is useful for removing noise and fine details from the image while preserving the overall shape and structure of objects."
   ]
  },
  {
   "cell_type": "code",
   "execution_count": 2,
   "id": "539dd1ef",
   "metadata": {},
   "outputs": [],
   "source": [
    "img = cv2.imread('Images/Image1.jpg',0)\n",
    "img = cv2.resize(img, (400,600))\n",
    "\n",
    "_, mask = cv2.threshold(img,100,255,cv2.THRESH_BINARY_INV)\n",
    "\n",
    "kernel = np.ones((5,5), np.uint8)\n",
    "opening = cv2.morphologyEx(mask, cv2.MORPH_OPEN, kernel)\n",
    "\n",
    "cv2.imshow('Image', img)\n",
    "cv2.imshow('Mask', mask)\n",
    "cv2.imshow('Opening', opening)\n",
    "\n",
    "cv2.waitKey(0)\n",
    "cv2.destroyAllWindows()"
   ]
  },
  {
   "cell_type": "markdown",
   "id": "c5122dc8",
   "metadata": {},
   "source": [
    "### 4. Closing\n",
    "- Closing is the opposite of opening and combines dilation followed by erosion. It is used to close small holes and gaps within objects while preserving their overall shape."
   ]
  },
  {
   "cell_type": "code",
   "execution_count": 4,
   "id": "513085da",
   "metadata": {},
   "outputs": [],
   "source": [
    "img = cv2.imread('Images/Image1.jpg',0)\n",
    "img = cv2.resize(img, (400,600))\n",
    "\n",
    "_, mask = cv2.threshold(img,100,255,cv2.THRESH_BINARY_INV)\n",
    "\n",
    "kernel = np.ones((5,5), np.uint8)\n",
    "closing = cv2.morphologyEx(mask, cv2.MORPH_CLOSE, kernel)\n",
    "\n",
    "cv2.imshow('Image', img)\n",
    "cv2.imshow('Mask', mask)\n",
    "cv2.imshow('Closing', closing)\n",
    "\n",
    "cv2.waitKey(0)\n",
    "cv2.destroyAllWindows()"
   ]
  },
  {
   "cell_type": "markdown",
   "id": "bbab3ed6",
   "metadata": {},
   "source": [
    "### 5. Gradient\n",
    "- The gradient operation calculates the difference between dilation and erosion, highlighting the boundaries and edges of objects in the image."
   ]
  },
  {
   "cell_type": "code",
   "execution_count": 5,
   "id": "69af7cd3",
   "metadata": {},
   "outputs": [],
   "source": [
    "img = cv2.imread('Images/Image1.jpg',0)\n",
    "img = cv2.resize(img, (400,600))\n",
    "\n",
    "_, mask = cv2.threshold(img,100,255,cv2.THRESH_BINARY_INV)\n",
    "\n",
    "kernel = np.ones((5,5), np.uint8)\n",
    "gradient = cv2.morphologyEx(mask, cv2.MORPH_GRADIENT, kernel)\n",
    "\n",
    "cv2.imshow('Image', img)\n",
    "cv2.imshow('Mask', mask)\n",
    "cv2.imshow('Gradient', gradient)\n",
    "\n",
    "cv2.waitKey(0)\n",
    "cv2.destroyAllWindows()"
   ]
  },
  {
   "cell_type": "markdown",
   "id": "79a2858d",
   "metadata": {},
   "source": [
    "### 6. Structing Elements\n",
    "- Morphological operations rely on a structuring element, which defines the shape and size of the neighborhood around each pixel that is considered during the operation."
   ]
  },
  {
   "cell_type": "code",
   "execution_count": 17,
   "id": "1ad2d180",
   "metadata": {},
   "outputs": [],
   "source": [
    "import cv2\n",
    "import numpy as np\n",
    "\n",
    "# Read the input image\n",
    "img = cv2.imread('Images/Image1.jpg',0)\n",
    "img = cv2.resize(img, (400, 600))\n",
    "\n",
    "# Threshold the image to obtain a binary image\n",
    "_, binary = cv2.threshold(img, 100, 255, cv2.THRESH_BINARY)\n",
    "\n",
    "# Define the radius of the circular structuring element\n",
    "radius = 1\n",
    "\n",
    "# Create the circular structuring element (shapes, (width, height))\n",
    "kernel = cv2.getStructuringElement(cv2.MORPH_ELLIPSE, (2*radius+1, 2*radius+1))\n",
    "# kernel = cv2.getStructuringElement(cv2.MORPH_RECT, (4, 4))\n",
    "# kernel = cv2.getStructuringElement(cv2.MORPH_CROSS, (3, 3))\n",
    "\n",
    "# Apply morphological transformations\n",
    "eroded = cv2.erode(binary, kernel)\n",
    "dilated = cv2.dilate(binary, kernel)\n",
    "opened = cv2.morphologyEx(binary, cv2.MORPH_OPEN, kernel)\n",
    "closed = cv2.morphologyEx(binary, cv2.MORPH_CLOSE, kernel)\n",
    "gradient = cv2.morphologyEx(binary, cv2.MORPH_GRADIENT, kernel)\n",
    "\n",
    "# Display the images\n",
    "cv2.imshow('Original', img)\n",
    "cv2.imshow('Opened', opened)\n",
    "cv2.imshow('Closed', closed)\n",
    "cv2.imshow('Gradient', gradient)\n",
    "\n",
    "cv2.waitKey(0)\n",
    "cv2.destroyAllWindows()\n"
   ]
  },
  {
   "cell_type": "markdown",
   "id": "adbada9f",
   "metadata": {},
   "source": [
    "### 7. Generally Erosion is followed by Dilation"
   ]
  },
  {
   "cell_type": "code",
   "execution_count": 48,
   "id": "65ef21c5",
   "metadata": {},
   "outputs": [],
   "source": [
    "img = cv2.imread('Images/Image1.jpg',0)\n",
    "img = cv2.resize(img, (400,600))\n",
    "\n",
    "# For Morphological transformation Object has to be White pixel\n",
    "_, mask = cv2.threshold(img,100,255,cv2.THRESH_BINARY_INV)\n",
    "\n",
    "e_k = np.ones((5,5), np.uint8)\n",
    "e = cv2.erode(mask, e_k)\n",
    "d_k = np.ones((8,8), np.uint8)\n",
    "d = cv2.dilate(e, d_k)\n",
    "\n",
    "cv2.imshow('Image', img)\n",
    "cv2.imshow('Mask', mask)\n",
    "cv2.imshow('Erosion -> Dilate', d)\n",
    "\n",
    "cv2.waitKey(0)\n",
    "cv2.destroyAllWindows()"
   ]
  },
  {
   "cell_type": "code",
   "execution_count": null,
   "id": "887e2fd8",
   "metadata": {},
   "outputs": [],
   "source": []
  }
 ],
 "metadata": {
  "kernelspec": {
   "display_name": "Python 3 (ipykernel)",
   "language": "python",
   "name": "python3"
  },
  "language_info": {
   "codemirror_mode": {
    "name": "ipython",
    "version": 3
   },
   "file_extension": ".py",
   "mimetype": "text/x-python",
   "name": "python",
   "nbconvert_exporter": "python",
   "pygments_lexer": "ipython3",
   "version": "3.10.4"
  }
 },
 "nbformat": 4,
 "nbformat_minor": 5
}
