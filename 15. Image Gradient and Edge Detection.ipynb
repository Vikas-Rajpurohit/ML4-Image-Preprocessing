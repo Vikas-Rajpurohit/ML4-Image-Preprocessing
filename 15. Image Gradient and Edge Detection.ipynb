{
 "cells": [
  {
   "cell_type": "markdown",
   "id": "a11d971b",
   "metadata": {},
   "source": [
    "## Image Gradient and Edge Detection"
   ]
  },
  {
   "cell_type": "code",
   "execution_count": 7,
   "id": "49093243",
   "metadata": {},
   "outputs": [],
   "source": [
    "import cv2\n",
    "import numpy as np\n",
    "\n",
    "img = cv2.imread('Images\\Image1.jpg')\n",
    "img = cv2.resize(img, (400,600))\n",
    "gray = cv2.cvtColor(img, cv2.COLOR_BGR2GRAY)"
   ]
  },
  {
   "cell_type": "markdown",
   "id": "323f709a",
   "metadata": {},
   "source": [
    "### 1. laplacian Derivative \n",
    "- It is worth noting that the Laplacian operator is sensitive to noise. Therefore, it is common to apply it on a preprocessed grayscale image (gray) rather than on a color image."
   ]
  },
  {
   "cell_type": "code",
   "execution_count": 8,
   "id": "cc1c7348",
   "metadata": {},
   "outputs": [],
   "source": [
    "# Parameters (gray_img, data_type for -ve val, kernel_size)\n",
    "lap = cv2.Laplacian(gray, cv2.CV_64F, ksize = 1)\n",
    "lap = np.uint8(np.absolute(lap))\n",
    "\n",
    "cv2.imshow('Gray',gray)\n",
    "cv2.imshow('Lapacian',lap)\n",
    "\n",
    "cv2.waitKey(0)\n",
    "cv2.destroyAllWindows()"
   ]
  },
  {
   "cell_type": "markdown",
   "id": "74b58e2d",
   "metadata": {},
   "source": [
    "### 2. Sobel X & Y Derivative"
   ]
  },
  {
   "cell_type": "code",
   "execution_count": 9,
   "id": "5d83041e",
   "metadata": {},
   "outputs": [],
   "source": [
    "# Detect Edges in Y direction\n",
    "sobelX = cv2.Sobel(gray, cv2.CV_64F, 1, 0, ksize =3)\n",
    "# Detect Edges in X direction\n",
    "sobelY = cv2.Sobel(gray, cv2.CV_64F, 0, 1, ksize =3)\n",
    "\n",
    "sobelX = np.uint8(np.absolute(sobelX))\n",
    "sobelY = np.uint8(np.absolute(sobelY))\n",
    "\n",
    "sobel_c = cv2.bitwise_or(sobelX, sobelY)\n",
    "\n",
    "cv2.imshow('Gray',gray)\n",
    "cv2.imshow('SobelX',sobelX)\n",
    "cv2.imshow('SobelY',sobelY)\n",
    "cv2.imshow('sobel_c',sobel_c)\n",
    "\n",
    "cv2.waitKey(0)\n",
    "cv2.destroyAllWindows()"
   ]
  },
  {
   "cell_type": "markdown",
   "id": "69f25293",
   "metadata": {},
   "source": [
    "### 3. Canny Edge Detection"
   ]
  },
  {
   "cell_type": "code",
   "execution_count": 6,
   "id": "690bb7fb",
   "metadata": {},
   "outputs": [],
   "source": [
    "def nothing(x):\n",
    "    pass\n",
    "\n",
    "cv2.namedWindow('Canny')\n",
    "cv2.createTrackbar('LThreshold', 'Canny', 82, 255, nothing)\n",
    "cv2.createTrackbar('UThreshold', 'Canny', 148, 255, nothing)\n",
    "\n",
    "while True:\n",
    "    l = cv2.getTrackbarPos('LThreshold', 'Canny')\n",
    "    u = cv2.getTrackbarPos('UThreshold', 'Canny')\n",
    "    res = cv2.Canny(gray, l, u)\n",
    "    \n",
    "    cv2.imshow('Canny', res)\n",
    "    \n",
    "    if cv2.waitKey(1) & 0xFF == 27:\n",
    "        break\n",
    "        \n",
    "cv2.destroyAllWindows()"
   ]
  },
  {
   "cell_type": "code",
   "execution_count": 5,
   "id": "6523855e",
   "metadata": {},
   "outputs": [],
   "source": [
    "cv2.destroyAllWindows()"
   ]
  },
  {
   "cell_type": "code",
   "execution_count": null,
   "id": "846a59b8",
   "metadata": {},
   "outputs": [],
   "source": []
  },
  {
   "cell_type": "markdown",
   "id": "c4ff6604",
   "metadata": {},
   "source": [
    "- Before performing edge detection, there are a few preprocessing steps that can enhance the quality of the results and improve the accuracy of edge detection algorithms. Here are some important processes to keep in mind:"
   ]
  },
  {
   "cell_type": "markdown",
   "id": "cd09e3b0",
   "metadata": {},
   "source": [
    "1. Image preprocessing: Convert the input image to grayscale if it is in color. Edge detection algorithms typically operate on grayscale images since they focus on intensity changes rather than color variations.\n",
    "\n",
    "2. Noise reduction: Apply image smoothing or denoising techniques to reduce noise in the image. Noise can create false edges and interfere with accurate edge detection. Common smoothing techniques include Gaussian blurring, median filtering, or bilateral filtering.\n",
    "\n",
    "3. Image enhancement: Enhance the image contrast or adjust its intensity levels to improve the visibility of edges. Histogram equalization, contrast stretching, or adaptive histogram equalization techniques can be used for this purpose.\n",
    "\n",
    "4. Gradient magnitude normalization: Normalize the gradient magnitude values to a desired range. This step can be performed to ensure consistent thresholding and better visualization of the detected edges.\n",
    "\n",
    "5. Gradient magnitude thresholding: Determine an appropriate threshold value to separate edges from non-edge regions. Thresholding helps to extract meaningful edges and discard weak or noisy edge information. Experiment with different thresholding techniques (e.g., global thresholding, adaptive thresholding) and threshold values to find the most suitable approach for your specific application.\n",
    "\n",
    "6. Post-processing: Apply post-processing operations such as morphological operations (dilation, erosion) or connected component analysis to refine the detected edges, remove small spurious edges, or connect fragmented edges.\n",
    "\n",
    "7. Evaluation and fine-tuning: Evaluate the performance of different edge detection algorithms and parameter settings by comparing the detected edges with ground truth or expected results. Fine-tune the algorithm parameters based on the specific requirements of your application."
   ]
  },
  {
   "cell_type": "code",
   "execution_count": null,
   "id": "5793bca0",
   "metadata": {},
   "outputs": [],
   "source": []
  }
 ],
 "metadata": {
  "kernelspec": {
   "display_name": "Python 3 (ipykernel)",
   "language": "python",
   "name": "python3"
  },
  "language_info": {
   "codemirror_mode": {
    "name": "ipython",
    "version": 3
   },
   "file_extension": ".py",
   "mimetype": "text/x-python",
   "name": "python",
   "nbconvert_exporter": "python",
   "pygments_lexer": "ipython3",
   "version": "3.10.4"
  }
 },
 "nbformat": 4,
 "nbformat_minor": 5
}
