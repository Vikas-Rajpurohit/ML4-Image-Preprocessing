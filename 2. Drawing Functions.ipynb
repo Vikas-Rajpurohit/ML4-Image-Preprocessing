{
 "cells": [
  {
   "cell_type": "markdown",
   "id": "69bfcc24",
   "metadata": {},
   "source": [
    "## 1. Drawing Functions"
   ]
  },
  {
   "cell_type": "markdown",
   "id": "789bc8a1",
   "metadata": {},
   "source": [
    "- Coordinate system: OpenCV uses a coordinate system where the origin (0, 0) is located at the top-left corner of the image. The positive x-axis extends horizontally to the right, and the positive y-axis extends vertically downward"
   ]
  },
  {
   "cell_type": "code",
   "execution_count": 59,
   "id": "5c996050",
   "metadata": {},
   "outputs": [],
   "source": [
    "import cv2\n",
    "import numpy as np\n",
    "\n",
    "img = cv2.imread('Images/Image1.jpg')\n",
    "img = cv2.resize(img, (426,569))\n",
    "\n",
    "# Specify thickness -1 to fill any Shape\n",
    "\n",
    "# Line (src, start, end, color-(BGR), thickness)\n",
    "img = cv2.line(img, (0,0), (200,200), (245,7,31), 5)\n",
    "\n",
    "# Rectangle (src, (x_min,y_min) , (x_max,y_max), color-(BGR), thickness)\n",
    "img = cv2.rectangle(img, (100,100), (300,300), (245,7,31), 5)\n",
    "\n",
    "# Circle (src, center, radius, color-(BGR), thickness)\n",
    "img = cv2.circle(img, (200,200), 50, (245,7,31), 5)\n",
    "\n",
    "# Text (src, text, start, font, fontsize, color-(BGR), thickness, linetype)\n",
    "img = cv2.putText(img, 'Gift me', (250,550), cv2.FONT_HERSHEY_COMPLEX , 1, (245,7,31), 1, cv2.LINE_AA)\n",
    "\n",
    "# Ellipse (src, center, (width, height), rotn, erase, deg, color, thickness)\n",
    "img = cv2.ellipse(img, (200,200), (200,100), 0, 0, 270, (245,7,31), 5)\n",
    "\n",
    "cv2.imshow('Image', img)\n",
    "\n",
    "cv2.waitKey(0)\n",
    "cv2.destroyAllWindows()"
   ]
  },
  {
   "cell_type": "markdown",
   "id": "f38d6c80",
   "metadata": {},
   "source": [
    "## 2. Creating Blank Image"
   ]
  },
  {
   "cell_type": "code",
   "execution_count": 72,
   "id": "3dffdd7a",
   "metadata": {},
   "outputs": [],
   "source": [
    "import cv2\n",
    "import numpy as np\n",
    "\n",
    "# Blank White Image\n",
    "img = np.ones([512,512,3], np.uint8)\n",
    "\n",
    "# Blank Black Image\n",
    "img = np.zeros([512,512,3], np.uint8)\n",
    "\n",
    "cv2.imshow('Image', img)\n",
    "\n",
    "cv2.waitKey(0)\n",
    "cv2.destroyAllWindows()"
   ]
  },
  {
   "cell_type": "code",
   "execution_count": null,
   "id": "33c1083a",
   "metadata": {},
   "outputs": [],
   "source": []
  }
 ],
 "metadata": {
  "kernelspec": {
   "display_name": "Python 3 (ipykernel)",
   "language": "python",
   "name": "python3"
  },
  "language_info": {
   "codemirror_mode": {
    "name": "ipython",
    "version": 3
   },
   "file_extension": ".py",
   "mimetype": "text/x-python",
   "name": "python",
   "nbconvert_exporter": "python",
   "pygments_lexer": "ipython3",
   "version": "3.10.4"
  }
 },
 "nbformat": 4,
 "nbformat_minor": 5
}
