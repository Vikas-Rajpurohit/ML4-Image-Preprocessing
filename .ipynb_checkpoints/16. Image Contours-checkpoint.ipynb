{
 "cells": [
  {
   "cell_type": "markdown",
   "id": "41469711",
   "metadata": {},
   "source": [
    "## 1. Image Contours\n",
    "- In Threshold Image object has to be white and background black\n",
    "\n",
    "- Contours possess several properties that can be analyzed and utilized:\n",
    "\n",
    "1. Area: The area enclosed by a contour, which can be used to filter out small or large contours.\n",
    "2. Perimeter: The length of the contour boundary.\n",
    "3. Convexity: Determines if a contour is convex or concave.\n",
    "4. Moments: Statistical measures of a contour's spatial distribution, useful for centroid calculation, shape matching, or orientation estimation."
   ]
  },
  {
   "cell_type": "code",
   "execution_count": 1,
   "id": "ac8af1c0",
   "metadata": {},
   "outputs": [],
   "source": [
    "import cv2\n",
    "import numpy as np"
   ]
  },
  {
   "cell_type": "markdown",
   "id": "18025459",
   "metadata": {},
   "source": [
    "### Contour Retrieval Methods\n",
    "- cv2.RETR_EXTERNAL: Retrieves only the external (outer) contours of objects in the image.\n",
    "- cv2.RETR_LIST: Retrieves all contours without establishing any hierarchical relationships.\n",
    "- cv2.RETR_CCOMP: Retrieves all contours and organizes them into a two-level hierarchy based on the inner and outer contours.\n",
    "- cv2.RETR_TREE: Retrieves all contours and reconstructs a full hierarchy of nested contours."
   ]
  },
  {
   "cell_type": "code",
   "execution_count": 166,
   "id": "f14d22d9",
   "metadata": {},
   "outputs": [],
   "source": [
    "img = cv2.imread('Images\\Image4.jpg')\n",
    "# img = cv2.resize(img, (400,600))\n",
    "gray = cv2.cvtColor(img, cv2.COLOR_BGR2GRAY)\n",
    "ret, thresh = cv2.threshold(gray, 35,255,0)\n",
    "\n",
    "c_thresh = thresh.copy()\n",
    "\n",
    "cnts, hier = cv2.findContours(c_thresh, cv2.RETR_TREE, cv2.CHAIN_APPROX_SIMPLE)\n",
    "\n",
    "# Contours are point on figure\n",
    "# print(cnts, len(cnts))\n",
    "\n",
    "# Parameters (img, contours, -1: all, color, thickness)\n",
    "cv2.drawContours(img, cnts, -1, (255,255,255), 2)\n",
    "\n",
    "cv2.imshow('Thresh', thresh)\n",
    "cv2.imshow('Cnt_Image', img)\n",
    "\n",
    "cv2.waitKey(0)\n",
    "cv2.destroyAllWindows()"
   ]
  },
  {
   "cell_type": "markdown",
   "id": "894eddc6",
   "metadata": {},
   "source": [
    "## 2. Contour Moments"
   ]
  },
  {
   "cell_type": "code",
   "execution_count": 167,
   "id": "d866e8cf",
   "metadata": {},
   "outputs": [
    {
     "name": "stdout",
     "output_type": "stream",
     "text": [
      "Contours  5\n",
      "Hierarchy  1\n"
     ]
    }
   ],
   "source": [
    "img = cv2.imread('Images\\Image4.jpg')\n",
    "gray = cv2.cvtColor(img, cv2.COLOR_BGR2GRAY)\n",
    "cv2.imshow('Image', img)\n",
    "\n",
    "ret, thresh = cv2.threshold(gray, 35, 255, cv2.THRESH_BINARY)\n",
    "\n",
    "c_thresh = thresh.copy()\n",
    "\n",
    "cnts, hier = cv2.findContours(c_thresh, cv2.RETR_TREE, cv2.CHAIN_APPROX_SIMPLE)\n",
    "\n",
    "print('Contours ', len(cnts))\n",
    "print('Hierarchy ', len(hier))\n",
    "\n",
    "cv2.imshow('Thresh', thresh)\n",
    "\n",
    "for c in cnts:\n",
    "    # print(len(c))\n",
    "    \n",
    "    if(len(c) > 4):\n",
    "        M =  cv2.moments(c)\n",
    "        # Centroid cX & cY\n",
    "        cX = int(M[\"m10\"] / M[\"m00\"])\n",
    "        cY = int(M[\"m01\"] / M[\"m00\"])\n",
    "\n",
    "        cv2.drawContours(img, [c], -1, (255,255,255), 2)\n",
    "        cv2.circle(img, (cX,cY), 3, (255,255,255), -1)\n",
    "        cv2.putText(img, 'center', (cX-20,cY-20), cv2.FONT_HERSHEY_SIMPLEX, 0.5, (255,255,255), 1)\n",
    "\n",
    "cv2.imshow('Cnt_Image', img)\n",
    "\n",
    "cv2.waitKey(0)\n",
    "cv2.destroyAllWindows()"
   ]
  },
  {
   "cell_type": "markdown",
   "id": "3bd692a0",
   "metadata": {},
   "source": [
    "## 3. Convex Hull "
   ]
  },
  {
   "cell_type": "code",
   "execution_count": 134,
   "id": "dcd82e25",
   "metadata": {},
   "outputs": [],
   "source": [
    "img = cv2.imread('Images\\Image4.jpg')\n",
    "gray = cv2.cvtColor(img, cv2.COLOR_BGR2GRAY)\n",
    "cv2.imshow('Image', img)\n",
    "\n",
    "ret, thresh = cv2.threshold(gray, 100, 255, cv2.THRESH_BINARY_INV)\n",
    "\n",
    "c_thresh = thresh.copy()\n",
    "\n",
    "cnts, hier = cv2.findContours(c_thresh, cv2.RETR_TREE, cv2.CHAIN_APPROX_SIMPLE)\n",
    "\n",
    "for c in cnts:\n",
    "    if(len(c) > 4):\n",
    "        M =  cv2.moments(c)\n",
    "        cX = int(M[\"m10\"] / M[\"m00\"])\n",
    "        cY = int(M[\"m01\"] / M[\"m00\"])\n",
    "        \n",
    "        area = cv2.contourArea(c)\n",
    "        \n",
    "        # Used to reduce points in Contour for better shape\n",
    "        # Multiplier should be < 1 ( 0.1, 0.01 )\n",
    "        epsilon = 0.05*cv2.arcLength(c, True)\n",
    "        data = cv2.approxPolyDP(c, epsilon, True)\n",
    "        \n",
    "        # Hull provide proper contours convexity\n",
    "        hull = cv2.convexHull(data)\n",
    "        \n",
    "        x,y,w,h = cv2.boundingRect(hull)\n",
    "        cv2.rectangle(img, (x,y), (x+w,y+h), (255,255,255), 2)\n",
    "        cv2.putText(img, str(area), (cX-20,cY-20), cv2.FONT_HERSHEY_SIMPLEX, 0.5, (255,255,255), 1)\n",
    "        \n",
    "cv2.imshow('Thresh', thresh)\n",
    "cv2.imshow('Cnt_Image', img)\n",
    "\n",
    "cv2.waitKey(0)\n",
    "cv2.destroyAllWindows()"
   ]
  },
  {
   "cell_type": "markdown",
   "id": "640b8b38",
   "metadata": {},
   "source": [
    "## 4. Extreme Points"
   ]
  },
  {
   "cell_type": "code",
   "execution_count": 168,
   "id": "91b1515b",
   "metadata": {},
   "outputs": [],
   "source": [
    "img = cv2.imread('Images\\Image4.jpg')\n",
    "gray = cv2.cvtColor(img, cv2.COLOR_BGR2GRAY)\n",
    "cv2.imshow('Image', img)\n",
    "\n",
    "ret, thresh = cv2.threshold(gray, 35, 255, cv2.THRESH_BINARY)\n",
    "\n",
    "c_thresh = thresh.copy()\n",
    "\n",
    "cnts, hier = cv2.findContours(c_thresh, cv2.RETR_TREE, cv2.CHAIN_APPROX_SIMPLE)\n",
    "\n",
    "c_max = cnts[1] #Triangle\n",
    "\n",
    "# determine extreme points\n",
    "extLeft = tuple(c_max[c_max[:,:, 0].argmin()][0])\n",
    "extRight = tuple(c_max[c_max[:,:, 0].argmax()][0])\n",
    "extTop = tuple(c_max[c_max[:,:, 1].argmin()][0])\n",
    "extBottom = tuple(c_max[c_max[:,:, 1].argmax()][0])\n",
    "\n",
    "cv2.circle(img, extBottom, 8, (255,0,255), -1)\n",
    "cv2.circle(img, extLeft, 8, (0,125,255), -1)\n",
    "cv2.circle(img, extTop, 8, (255,10,0), -1)\n",
    "cv2.circle(img, extRight, 8, (9,152,152), -1)\n",
    "        \n",
    "cv2.imshow('Cnt_Image', img)\n",
    "cv2.imshow('Thresh', thresh)\n",
    "\n",
    "cv2.waitKey(0)\n",
    "cv2.destroyAllWindows()"
   ]
  },
  {
   "cell_type": "code",
   "execution_count": 152,
   "id": "86865d8b",
   "metadata": {},
   "outputs": [],
   "source": [
    "cv2.destroyAllWindows()"
   ]
  },
  {
   "cell_type": "code",
   "execution_count": null,
   "id": "eabea7d0",
   "metadata": {},
   "outputs": [],
   "source": []
  }
 ],
 "metadata": {
  "kernelspec": {
   "display_name": "Python 3 (ipykernel)",
   "language": "python",
   "name": "python3"
  },
  "language_info": {
   "codemirror_mode": {
    "name": "ipython",
    "version": 3
   },
   "file_extension": ".py",
   "mimetype": "text/x-python",
   "name": "python",
   "nbconvert_exporter": "python",
   "pygments_lexer": "ipython3",
   "version": "3.10.4"
  }
 },
 "nbformat": 4,
 "nbformat_minor": 5
}
