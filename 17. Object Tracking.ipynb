{
 "cells": [
  {
   "cell_type": "markdown",
   "id": "12fa1a1c",
   "metadata": {},
   "source": [
    "## Object Tracking\n",
    "- https://www.lifewire.com/what-is-hsv-in-design-1078068\n",
    "- https://stackoverflow.com/questions/10948589/choosing-the-correct-upper-and-lower-hsv-boundaries-for-color-detection-withcv\n",
    "- OpenCV use H: 0-179, S: 0-255, V: 0-255 ranges"
   ]
  },
  {
   "cell_type": "code",
   "execution_count": 10,
   "id": "fe2469e1",
   "metadata": {},
   "outputs": [],
   "source": [
    "import cv2\n",
    "import numpy as np"
   ]
  },
  {
   "cell_type": "code",
   "execution_count": 19,
   "id": "41dbd305",
   "metadata": {},
   "outputs": [],
   "source": [
    "cap = cv2.VideoCapture(0)\n",
    "\n",
    "def nothing(x):\n",
    "    pass\n",
    "\n",
    "cv2.namedWindow(\"Color Adjustments\",cv2.WINDOW_NORMAL)\n",
    "cv2.resizeWindow(\"Color Adjustments\", (300, 300)) \n",
    "\n",
    "cv2.createTrackbar(\"Thresh\", \"Color Adjustments\", 0, 255, nothing)\n",
    "\n",
    "#Color Detection Track\n",
    "cv2.createTrackbar(\"Lower_H\", \"Color Adjustments\", 0, 179, nothing)\n",
    "cv2.createTrackbar(\"Lower_S\", \"Color Adjustments\", 100, 255, nothing)\n",
    "cv2.createTrackbar(\"Lower_V\", \"Color Adjustments\", 100, 255, nothing)\n",
    "cv2.createTrackbar(\"Upper_H\", \"Color Adjustments\", 179, 179, nothing)\n",
    "cv2.createTrackbar(\"Upper_S\", \"Color Adjustments\", 255, 255, nothing)\n",
    "cv2.createTrackbar(\"Upper_V\", \"Color Adjustments\", 255, 255, nothing)\n",
    "\n",
    "\n",
    "while True:\n",
    "    _,frame = cap.read()\n",
    "    frame = cv2.resize(frame,(400,400))\n",
    "    hsv = cv2.cvtColor(frame, cv2.COLOR_BGR2HSV)\n",
    "    \n",
    "    #detecting hand\n",
    "    l_h = cv2.getTrackbarPos(\"Lower_H\", \"Color Adjustments\")\n",
    "    l_s = cv2.getTrackbarPos(\"Lower_S\", \"Color Adjustments\")\n",
    "    l_v = cv2.getTrackbarPos(\"Lower_V\", \"Color Adjustments\")\n",
    "\n",
    "    u_h = cv2.getTrackbarPos(\"Upper_H\", \"Color Adjustments\")\n",
    "    u_s = cv2.getTrackbarPos(\"Upper_S\", \"Color Adjustments\")\n",
    "    u_v = cv2.getTrackbarPos(\"Upper_V\", \"Color Adjustments\")\n",
    "    \n",
    "    lower_bound = np.array([l_h, l_s, l_v])\n",
    "    upper_bound = np.array([u_h, u_s, u_v])\n",
    "    \n",
    "    # print(lower_bound, upper_bound)\n",
    "    \n",
    "    # Creating Mask\n",
    "    mask = cv2.inRange(hsv, lower_bound, upper_bound)\n",
    "    # filter mask with image\n",
    "    filtr = cv2.bitwise_and(frame, frame, mask=mask)\n",
    "    \n",
    "    \n",
    "    mask1  = cv2.bitwise_not(mask)\n",
    "    m_g = cv2.getTrackbarPos(\"Thresh\", \"Color Adjustments\")\n",
    "    ret,thresh = cv2.threshold(mask1,m_g,255,cv2.THRESH_BINARY_INV)\n",
    "    dilata = cv2.dilate(thresh,(3,3),iterations = 6)\n",
    "    \n",
    "    \n",
    "    cnts,hier = cv2.findContours(thresh,cv2.RETR_TREE,cv2.CHAIN_APPROX_SIMPLE)\n",
    "    \n",
    "    for c in cnts:\n",
    "        epsilon = 0.001*cv2.arcLength(c,True)\n",
    "        data= cv2.approxPolyDP(c,epsilon,True)\n",
    "    \n",
    "        hull = cv2.convexHull(data)\n",
    "        cv2.drawContours(frame, [c], -1, (50, 50, 150), 2)\n",
    "        cv2.drawContours(frame, [hull], -1, (0, 255, 0), 2)\n",
    "       \n",
    "    \n",
    "    cv2.imshow(\"Thresh\", thresh)\n",
    "    cv2.imshow(\"mask==\",mask)\n",
    "    cv2.imshow(\"filter==\",filtr)\n",
    "    cv2.imshow(\"Result\", frame)\n",
    "\n",
    "    if cv2.waitKey(1) & 0xFF == 27:\n",
    "        break\n",
    "    \n",
    "cap.release()\n",
    "cv2.destroyAllWindows()"
   ]
  },
  {
   "cell_type": "code",
   "execution_count": 3,
   "id": "bc96bdbc",
   "metadata": {},
   "outputs": [],
   "source": [
    "cap.release()\n",
    "cv2.destroyAllWindows()"
   ]
  },
  {
   "cell_type": "code",
   "execution_count": null,
   "id": "8cfa3345",
   "metadata": {},
   "outputs": [],
   "source": []
  },
  {
   "cell_type": "code",
   "execution_count": null,
   "id": "416a51c8",
   "metadata": {},
   "outputs": [],
   "source": []
  },
  {
   "cell_type": "code",
   "execution_count": 20,
   "id": "dd487b91",
   "metadata": {},
   "outputs": [
    {
     "name": "stdout",
     "output_type": "stream",
     "text": [
      "[[[ 29 252 255]]]\n"
     ]
    }
   ],
   "source": [
    "yellow = np.uint8([[[3,244,255 ]]])\n",
    "hsv_yellow = cv2.cvtColor(yellow,cv2.COLOR_BGR2HSV)\n",
    "print( hsv_yellow )"
   ]
  },
  {
   "cell_type": "markdown",
   "id": "d0453fb3",
   "metadata": {},
   "source": [
    "- Now you take [H-10, 100,100] and [H+10, 255, 255] as the lower bound and upper bound respectively. Apart from this method, you can use any image editing tools like GIMP or any online converters to find these values, but don't forget to adjust the HSV ranges."
   ]
  },
  {
   "cell_type": "code",
   "execution_count": null,
   "id": "05310549",
   "metadata": {},
   "outputs": [],
   "source": []
  }
 ],
 "metadata": {
  "kernelspec": {
   "display_name": "Python 3 (ipykernel)",
   "language": "python",
   "name": "python3"
  },
  "language_info": {
   "codemirror_mode": {
    "name": "ipython",
    "version": 3
   },
   "file_extension": ".py",
   "mimetype": "text/x-python",
   "name": "python",
   "nbconvert_exporter": "python",
   "pygments_lexer": "ipython3",
   "version": "3.10.4"
  }
 },
 "nbformat": 4,
 "nbformat_minor": 5
}
