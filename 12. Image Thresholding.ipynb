{
 "cells": [
  {
   "cell_type": "markdown",
   "id": "a0766f65",
   "metadata": {},
   "source": [
    "## Thresholding\n",
    "- Thresholding is a technique used to separate regions or objects of interest from the rest of the image based on pixel intensity values. It converts a grayscale image into a binary image by assigning specific threshold values to each pixel.\n",
    "-  Also use to manage Pixels and divide all values in Two Parts"
   ]
  },
  {
   "cell_type": "code",
   "execution_count": 2,
   "id": "1758fd1c",
   "metadata": {},
   "outputs": [],
   "source": [
    "import cv2\n",
    "import numpy as np"
   ]
  },
  {
   "cell_type": "markdown",
   "id": "771a0614",
   "metadata": {},
   "source": [
    "## 1. Simple Thresholding :"
   ]
  },
  {
   "cell_type": "code",
   "execution_count": 3,
   "id": "f3a3523c",
   "metadata": {},
   "outputs": [],
   "source": [
    "img = cv2.imread('Images\\Image1.jpg',0)\n",
    "img = cv2.resize(img, (300,500))\n",
    "\n",
    "# Parameter -> (src, threshold, max_threshold, style)\n",
    "\n",
    "# Simple -> pixels above 50 are shifted to 255 and other to 0\n",
    "_, th1 = cv2.threshold(img, 50, 255, cv2.THRESH_BINARY)\n",
    "\n",
    "# Trunc -> pixels above 50 are shifted to 50 and other remains same\n",
    "_, th2 = cv2.threshold(img, 50, 255, cv2.THRESH_TRUNC)\n",
    "\n",
    "# Tozero -> pixels above 50 remains same and other shift to 0\n",
    "_, th3 = cv2.threshold(img, 50, 255, cv2.THRESH_TOZERO)\n",
    "\n",
    "cv2.imshow('OG Image',img)\n",
    "cv2.imshow('Simple', th1)\n",
    "cv2.imshow('Trunc', th2)\n",
    "cv2.imshow('Tozero', th3)\n",
    "\n",
    "cv2.waitKey(0)\n",
    "cv2.destroyAllWindows()"
   ]
  },
  {
   "cell_type": "code",
   "execution_count": null,
   "id": "c5da7232",
   "metadata": {},
   "outputs": [],
   "source": [
    "  "
   ]
  },
  {
   "cell_type": "markdown",
   "id": "5418f2e5",
   "metadata": {},
   "source": [
    "## 2. Adaptive Thresholding :\n",
    "Adaptive thresholding is a technique where the threshold value is calculated locally for each pixel based on the neighborhood of that pixel."
   ]
  },
  {
   "cell_type": "code",
   "execution_count": 16,
   "id": "db54d421",
   "metadata": {},
   "outputs": [],
   "source": [
    "img = cv2.imread('Images/Image1.jpg', 0)\n",
    "img = cv2.resize(img, (300,500))\n",
    "\n",
    "# (src, max_thresh, method, style, pixel_used_to_calculate, constant_fine-tuning)\n",
    "\n",
    "# Simple -> \n",
    "_, th1 = cv2.threshold(img, 50, 255, cv2.THRESH_BINARY)\n",
    "\n",
    "# Adaptive ->\n",
    "th2 = cv2.adaptiveThreshold(img, 255, cv2.ADAPTIVE_THRESH_MEAN_C, cv2.THRESH_BINARY, 11, 2)\n",
    "\n",
    "th3 = cv2.adaptiveThreshold(img, 255, cv2.ADAPTIVE_THRESH_GAUSSIAN_C, cv2.THRESH_BINARY, 11, 10)\n",
    "\n",
    "\n",
    "cv2.imshow('OG Image',img)\n",
    "cv2.imshow('Simple', th1)\n",
    "cv2.imshow('Adaptive', th2)\n",
    "cv2.imshow('Gaussian', th3)\n",
    "\n",
    "cv2.waitKey(0)\n",
    "cv2.destroyAllWindows()"
   ]
  },
  {
   "cell_type": "code",
   "execution_count": null,
   "id": "32e45310",
   "metadata": {},
   "outputs": [],
   "source": []
  },
  {
   "cell_type": "markdown",
   "id": "42a0764b",
   "metadata": {},
   "source": [
    "## Show Edges"
   ]
  },
  {
   "cell_type": "code",
   "execution_count": 4,
   "id": "44216880",
   "metadata": {},
   "outputs": [],
   "source": [
    "img = cv2.imread('Images/Image1.jpg')\n",
    "gray = cv2.imread('Images/Image1.jpg',0)\n",
    "img = cv2.resize(img, (300,500))\n",
    "gray = cv2.resize(gray, (300,500))\n",
    "\n",
    "th = cv2.adaptiveThreshold(gray, 255, cv2.ADAPTIVE_THRESH_GAUSSIAN_C, cv2.THRESH_BINARY, 11, 10)\n",
    "\n",
    "mask = cv2.bitwise_not(th)\n",
    "res = cv2.bitwise_and(img, img, mask=mask)\n",
    "\n",
    "cv2.imshow('Mask', mask)\n",
    "cv2.imshow('ROI', res)\n",
    "\n",
    "cv2.waitKey(0)\n",
    "cv2.destroyAllWindows()"
   ]
  },
  {
   "cell_type": "code",
   "execution_count": null,
   "id": "755790f1",
   "metadata": {},
   "outputs": [],
   "source": []
  }
 ],
 "metadata": {
  "kernelspec": {
   "display_name": "Python 3 (ipykernel)",
   "language": "python",
   "name": "python3"
  },
  "language_info": {
   "codemirror_mode": {
    "name": "ipython",
    "version": 3
   },
   "file_extension": ".py",
   "mimetype": "text/x-python",
   "name": "python",
   "nbconvert_exporter": "python",
   "pygments_lexer": "ipython3",
   "version": "3.10.4"
  }
 },
 "nbformat": 4,
 "nbformat_minor": 5
}
