{
 "cells": [
  {
   "cell_type": "markdown",
   "id": "e1706175",
   "metadata": {},
   "source": [
    "## 1. Image Operations"
   ]
  },
  {
   "cell_type": "code",
   "execution_count": 2,
   "id": "1f3b4649",
   "metadata": {},
   "outputs": [],
   "source": [
    "import cv2\n",
    "import numpy as np"
   ]
  },
  {
   "cell_type": "code",
   "execution_count": 4,
   "id": "7315974c",
   "metadata": {},
   "outputs": [
    {
     "name": "stdout",
     "output_type": "stream",
     "text": [
      "853 640\n"
     ]
    }
   ],
   "source": [
    "img = cv2.imread('Images/Image1.jpg')\n",
    "h = img.shape[0]\n",
    "w = img.shape[1]\n",
    "\n",
    "print(h,w)"
   ]
  },
  {
   "cell_type": "code",
   "execution_count": 7,
   "id": "c23f602c",
   "metadata": {},
   "outputs": [],
   "source": [
    "img = cv2.resize(img, (int(w/1.5),int(h/1.5)))\n",
    "\n",
    "cv2.imshow('image', img)\n",
    "\n",
    "cv2.waitKey(0)\n",
    "cv2.destroyAllWindows()"
   ]
  },
  {
   "cell_type": "code",
   "execution_count": 8,
   "id": "29bd00fb",
   "metadata": {},
   "outputs": [
    {
     "name": "stdout",
     "output_type": "stream",
     "text": [
      "(array([[  3,   3,   2, ...,   2,   1,   0],\n",
      "       [  3,   1,   3, ...,   1,   1,   1],\n",
      "       [  5,   1,   5, ...,   2,   5,   5],\n",
      "       ...,\n",
      "       [121, 117, 125, ...,  16,  16,  17],\n",
      "       [129, 125, 130, ...,  16,  15,  18],\n",
      "       [127, 127, 134, ...,  16,  14,  18]], dtype=uint8), array([[ 95,  95,  94, ..., 127, 125, 123],\n",
      "       [ 95,  93,  96, ..., 127, 126, 125],\n",
      "       [ 97,  93,  98, ..., 128, 130, 131],\n",
      "       ...,\n",
      "       [127, 123, 130, ..., 170, 169, 168],\n",
      "       [133, 129, 133, ..., 170, 168, 169],\n",
      "       [132, 131, 138, ..., 169, 168, 169]], dtype=uint8), array([[166, 166, 165, ..., 202, 200, 198],\n",
      "       [166, 164, 167, ..., 202, 201, 200],\n",
      "       [168, 164, 168, ..., 203, 205, 206],\n",
      "       ...,\n",
      "       [134, 130, 137, ..., 245, 244, 243],\n",
      "       [138, 134, 139, ..., 245, 243, 244],\n",
      "       [136, 136, 143, ..., 244, 243, 244]], dtype=uint8))\n"
     ]
    }
   ],
   "source": [
    "# Spliting Image into 3 Channels (B G R)\n",
    "\n",
    "print(cv2.split(img))"
   ]
  },
  {
   "cell_type": "code",
   "execution_count": 5,
   "id": "22139b54",
   "metadata": {},
   "outputs": [],
   "source": [
    "b, g, r = cv2.split(img)"
   ]
  },
  {
   "cell_type": "code",
   "execution_count": 6,
   "id": "630eb468",
   "metadata": {},
   "outputs": [],
   "source": [
    "# Merging different channels\n",
    "\n",
    "mr = cv2.merge((b,g,r))\n",
    "cv2.imshow('Merge',mr)\n",
    "\n",
    "cv2.waitKey(0)\n",
    "cv2.destroyAllWindows()"
   ]
  },
  {
   "cell_type": "code",
   "execution_count": 12,
   "id": "5f09ea72",
   "metadata": {},
   "outputs": [
    {
     "name": "stdout",
     "output_type": "stream",
     "text": [
      "[  3  95 166]\n"
     ]
    }
   ],
   "source": [
    "# Color by pixel\n",
    "\n",
    "px = img[0,0] # img[0, 0, 0] -> blue channel\n",
    "print(px)"
   ]
  },
  {
   "cell_type": "code",
   "execution_count": null,
   "id": "bfe16c93",
   "metadata": {},
   "outputs": [],
   "source": []
  }
 ],
 "metadata": {
  "kernelspec": {
   "display_name": "Python 3 (ipykernel)",
   "language": "python",
   "name": "python3"
  },
  "language_info": {
   "codemirror_mode": {
    "name": "ipython",
    "version": 3
   },
   "file_extension": ".py",
   "mimetype": "text/x-python",
   "name": "python",
   "nbconvert_exporter": "python",
   "pygments_lexer": "ipython3",
   "version": "3.10.4"
  }
 },
 "nbformat": 4,
 "nbformat_minor": 5
}
