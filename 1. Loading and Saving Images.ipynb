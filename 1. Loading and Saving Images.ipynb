{
 "cells": [
  {
   "cell_type": "markdown",
   "id": "d238e41d",
   "metadata": {},
   "source": [
    "## 1. Basic Template for Image reading & writing"
   ]
  },
  {
   "cell_type": "code",
   "execution_count": 10,
   "id": "42f018f3",
   "metadata": {
    "collapsed": true
   },
   "outputs": [
    {
     "name": "stdout",
     "output_type": "stream",
     "text": [
      "[[[  3  95 166]\n",
      "  [  3  95 166]\n",
      "  [  4  96 167]\n",
      "  ...\n",
      "  [  2 127 202]\n",
      "  [  1 126 201]\n",
      "  [  0 123 198]]\n",
      "\n",
      " [[  2  94 165]\n",
      "  [  3  95 166]\n",
      "  [  1  96 166]\n",
      "  ...\n",
      "  [  0 127 202]\n",
      "  [  3 128 203]\n",
      "  [  3 128 203]]\n",
      "\n",
      " [[  4  96 167]\n",
      "  [  3  98 168]\n",
      "  [  0  95 165]\n",
      "  ...\n",
      "  [  1 127 202]\n",
      "  [  2 129 204]\n",
      "  [  3 130 205]]\n",
      "\n",
      " ...\n",
      "\n",
      " [[118 124 130]\n",
      "  [121 128 133]\n",
      "  [128 133 139]\n",
      "  ...\n",
      "  [ 17 170 245]\n",
      "  [ 19 172 247]\n",
      "  [ 18 169 244]]\n",
      "\n",
      " [[125 130 136]\n",
      "  [123 128 134]\n",
      "  [130 133 141]\n",
      "  ...\n",
      "  [ 15 168 243]\n",
      "  [ 15 169 244]\n",
      "  [ 17 168 243]]\n",
      "\n",
      " [[129 133 137]\n",
      "  [129 133 138]\n",
      "  [133 136 142]\n",
      "  ...\n",
      "  [ 16 169 244]\n",
      "  [ 15 169 244]\n",
      "  [ 17 169 244]]]\n"
     ]
    }
   ],
   "source": [
    "import cv2\n",
    "\n",
    "img = cv2.imread('Images/Image1.jpg');\n",
    "\n",
    "# Width, Height\n",
    "img = cv2.resize(img, (320,425))\n",
    "\n",
    "print(img)\n",
    "\n",
    "# Screen Title\n",
    "cv2.imshow('Image',img)\n",
    "\n",
    "# x -> Wait for x milliseconds\n",
    "k = cv2.waitKey(0)\n",
    "if k==ord(\"s\"):\n",
    "    # Changing RGB Image to GrayScale\n",
    "    Image2 = cv2.cvtColor(img, cv2.COLOR_BGR2GRAY)\n",
    "    # Path to save file\n",
    "    cv2.imwrite('Images\\Output.jpg',Image2)\n",
    "    cv2.destroyAllWindows()\n",
    "else:\n",
    "    cv2.destroyAllWindows()"
   ]
  },
  {
   "cell_type": "markdown",
   "id": "fee52f06",
   "metadata": {},
   "source": [
    "## 2. Basic Template for Video "
   ]
  },
  {
   "cell_type": "code",
   "execution_count": 9,
   "id": "62f57645",
   "metadata": {},
   "outputs": [],
   "source": [
    "import cv2\n",
    "\n",
    "# File Path of Video\n",
    "cap = cv2.VideoCapture(0)\n",
    "\n",
    "if not cap.isOpened():\n",
    "    print('Failed to open Video')\n",
    "    exit()\n",
    "\n",
    "while True:\n",
    "    ret, frame = cap.read()\n",
    "    # To prevent Mirror Image\n",
    "    frame = cv2.flip(frame, 1)\n",
    "    \n",
    "    if ret:\n",
    "        cv2.imshow('Video',frame)\n",
    "            \n",
    "    # waitkey 1 -> for Webcam / Non Static Display\n",
    "    # Increase waitKey for slow playback\n",
    "    if cv2.waitKey(1) & 0xFF == ord('q'):\n",
    "        break\n",
    "\n",
    "cap.release()\n",
    "cv2.destroyAllWindows()"
   ]
  },
  {
   "cell_type": "code",
   "execution_count": null,
   "id": "769f2465",
   "metadata": {},
   "outputs": [],
   "source": [
    "cap.release()\n",
    "cv2.destroyAllWindows()"
   ]
  },
  {
   "cell_type": "code",
   "execution_count": null,
   "id": "a8e748c2",
   "metadata": {},
   "outputs": [],
   "source": []
  }
 ],
 "metadata": {
  "kernelspec": {
   "display_name": "Python 3 (ipykernel)",
   "language": "python",
   "name": "python3"
  },
  "language_info": {
   "codemirror_mode": {
    "name": "ipython",
    "version": 3
   },
   "file_extension": ".py",
   "mimetype": "text/x-python",
   "name": "python",
   "nbconvert_exporter": "python",
   "pygments_lexer": "ipython3",
   "version": "3.10.4"
  }
 },
 "nbformat": 4,
 "nbformat_minor": 5
}
