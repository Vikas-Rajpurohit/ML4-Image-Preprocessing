{
 "cells": [
  {
   "cell_type": "markdown",
   "id": "d0759bc5",
   "metadata": {},
   "source": [
    "## 1. Color Bar Using Trackbars\n",
    "- Creating a named window: Before creating trackbars, it's necessary to create a named window using cv2.namedWindow()."
   ]
  },
  {
   "cell_type": "code",
   "execution_count": 1,
   "id": "6ade6c41",
   "metadata": {},
   "outputs": [],
   "source": [
    "import cv2\n",
    "import numpy as np"
   ]
  },
  {
   "cell_type": "code",
   "execution_count": 14,
   "id": "8191a05d",
   "metadata": {},
   "outputs": [],
   "source": [
    "# Blank Image\n",
    "img = np.zeros([400,512,3], np.uint8)\n",
    "\n",
    "# Default function\n",
    "def cross(x):\n",
    "    pass"
   ]
  },
  {
   "cell_type": "code",
   "execution_count": 16,
   "id": "04da996c",
   "metadata": {},
   "outputs": [],
   "source": [
    "cv2.namedWindow('Color Bar')\n",
    "\n",
    "# Create Switch\n",
    "s1 = 'OFF : ON'\n",
    "cv2.createTrackbar(s1, 'Color Bar',0 ,1, cross)\n",
    "\n",
    "# Create RGB Trackbars\n",
    "cv2.createTrackbar('R', 'Color Bar', 0, 255, cross)\n",
    "cv2.createTrackbar('G', 'Color Bar', 0, 255, cross)\n",
    "cv2.createTrackbar('B', 'Color Bar', 0, 255, cross)\n",
    "\n",
    "while True:\n",
    "    cv2.imshow('Color Bar', img)\n",
    "    \n",
    "    # Keep waitKey == 1 because its Non-Static\n",
    "    if cv2.waitKey(1) & 0xFF == 27:\n",
    "        break\n",
    "        \n",
    "    # Get Trackbar Position\n",
    "    s = cv2.getTrackbarPos(s1, 'Color Bar')\n",
    "    r = cv2.getTrackbarPos('R', 'Color Bar')    \n",
    "    g = cv2.getTrackbarPos('G', 'Color Bar')    \n",
    "    b = cv2.getTrackbarPos('B', 'Color Bar')   \n",
    "    \n",
    "    if s == 0:\n",
    "        img[:] = 0\n",
    "    else:\n",
    "        # OpenCV use BGR Format\n",
    "        img[:] = [b,g,r]\n",
    "        \n",
    "cv2.destroyAllWindows()"
   ]
  },
  {
   "cell_type": "code",
   "execution_count": null,
   "id": "d7639a18",
   "metadata": {},
   "outputs": [],
   "source": []
  }
 ],
 "metadata": {
  "kernelspec": {
   "display_name": "Python 3 (ipykernel)",
   "language": "python",
   "name": "python3"
  },
  "language_info": {
   "codemirror_mode": {
    "name": "ipython",
    "version": 3
   },
   "file_extension": ".py",
   "mimetype": "text/x-python",
   "name": "python",
   "nbconvert_exporter": "python",
   "pygments_lexer": "ipython3",
   "version": "3.10.4"
  }
 },
 "nbformat": 4,
 "nbformat_minor": 5
}
