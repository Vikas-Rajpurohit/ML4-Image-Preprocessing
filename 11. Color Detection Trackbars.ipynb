{
 "cells": [
  {
   "cell_type": "code",
   "execution_count": 1,
   "id": "65673601",
   "metadata": {},
   "outputs": [],
   "source": [
    "import cv2\n",
    "import numpy as np"
   ]
  },
  {
   "cell_type": "code",
   "execution_count": 5,
   "id": "1d84e207",
   "metadata": {},
   "outputs": [],
   "source": [
    "img = cv2.imread('Images\\Image1.jpg')\n",
    "img = cv2.resize(img, (400,600))"
   ]
  },
  {
   "cell_type": "code",
   "execution_count": 10,
   "id": "6d914f27",
   "metadata": {},
   "outputs": [],
   "source": [
    "def nothing(x):\n",
    "    pass\n",
    "\n",
    "cv2.namedWindow('HSV Color')\n",
    "\n",
    "cv2.createTrackbar('Lower_H', 'HSV Color', 0, 255, nothing)\n",
    "cv2.createTrackbar('Lower_S', 'HSV Color', 0, 255, nothing)\n",
    "cv2.createTrackbar('Lower_V', 'HSV Color', 0, 255, nothing)\n",
    "cv2.createTrackbar('Upper_H', 'HSV Color', 255, 255, nothing)\n",
    "cv2.createTrackbar('Upper_S', 'HSV Color', 255, 255, nothing)\n",
    "cv2.createTrackbar('Upper_V', 'HSV Color', 255, 255, nothing)\n",
    "\n",
    "while True:\n",
    "    hsv = cv2.cvtColor(img, cv2.COLOR_BGR2HSV)\n",
    "    \n",
    "    l_h = cv2.getTrackbarPos('Lower_H', 'HSV Color')\n",
    "    l_s = cv2.getTrackbarPos('Lower_S', 'HSV Color')    \n",
    "    l_v = cv2.getTrackbarPos('Lower_V', 'HSV Color')    \n",
    "    \n",
    "    u_h = cv2.getTrackbarPos('Upper_H', 'HSV Color')    \n",
    "    u_s = cv2.getTrackbarPos('Upper_S', 'HSV Color')    \n",
    "    u_v = cv2.getTrackbarPos('Upper_V', 'HSV Color')    \n",
    "    \n",
    "    lower_bound = np.array([l_h,l_s,l_v])\n",
    "    upper_bound = np.array([u_h,u_s,u_v])\n",
    "    \n",
    "    # Values for detecting Yellow Color\n",
    "    # [17,43,0] [29,255,255]\n",
    "    \n",
    "    mask = cv2.inRange(hsv,lower_bound,upper_bound)\n",
    "    \n",
    "    res = cv2.bitwise_and(img, img, mask=mask)\n",
    "    \n",
    "    cv2.imshow('Mask', mask)\n",
    "    cv2.imshow('Result',res)\n",
    "    \n",
    "    if cv2.waitKey(1) & 0xFF == 27:\n",
    "        break\n",
    "        \n",
    "cv2.destroyAllWindows()"
   ]
  },
  {
   "cell_type": "code",
   "execution_count": 8,
   "id": "22a00edc",
   "metadata": {},
   "outputs": [],
   "source": [
    "cv2.destroyAllWindows()"
   ]
  },
  {
   "cell_type": "markdown",
   "id": "aa19b41d",
   "metadata": {},
   "source": [
    "##  - Make it For Webcam "
   ]
  },
  {
   "cell_type": "code",
   "execution_count": null,
   "id": "21580b23",
   "metadata": {},
   "outputs": [],
   "source": []
  }
 ],
 "metadata": {
  "kernelspec": {
   "display_name": "Python 3 (ipykernel)",
   "language": "python",
   "name": "python3"
  },
  "language_info": {
   "codemirror_mode": {
    "name": "ipython",
    "version": 3
   },
   "file_extension": ".py",
   "mimetype": "text/x-python",
   "name": "python",
   "nbconvert_exporter": "python",
   "pygments_lexer": "ipython3",
   "version": "3.10.4"
  }
 },
 "nbformat": 4,
 "nbformat_minor": 5
}
