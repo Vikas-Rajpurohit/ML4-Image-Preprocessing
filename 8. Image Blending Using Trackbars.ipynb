{
 "cells": [
  {
   "cell_type": "markdown",
   "id": "879b5f71",
   "metadata": {},
   "source": [
    "## Image Blending Using Trackbars"
   ]
  },
  {
   "cell_type": "code",
   "execution_count": 1,
   "id": "8d4dc751",
   "metadata": {},
   "outputs": [],
   "source": [
    "import cv2\n",
    "import numpy as np\n",
    "\n",
    "img1 = cv2.imread('Images/Image1.jpg')\n",
    "img1 = cv2.resize(img1, (400,600))\n",
    "\n",
    "img2 = cv2.imread('Images/Image2.jpg')\n",
    "img2 = cv2.resize(img2, (400,600))"
   ]
  },
  {
   "cell_type": "code",
   "execution_count": 27,
   "id": "3344b7cd",
   "metadata": {},
   "outputs": [],
   "source": [
    "def blend(x):\n",
    "    pass\n",
    "\n",
    "img = np.zeros((400,600,3), np.uint8)\n",
    "cv2.namedWindow('Blend')\n",
    "cv2.createTrackbar('alpha', 'Blend', 1, 100,blend)\n",
    "switch = '0:OFF/1:ON'\n",
    "cv2.createTrackbar(switch, 'Blend', 0, 1,blend)\n",
    "\n",
    "# Resize the window\n",
    "window_width = 500  # Specify the desired width of the window\n",
    "window_height = 50  # Specify the desired height of the window\n",
    "cv2.resizeWindow('Blend', window_width, window_height)\n",
    "\n",
    "while True:\n",
    "    s = cv2.getTrackbarPos(switch, 'Blend')\n",
    "    a = cv2.getTrackbarPos('alpha', 'Blend')\n",
    "    n = float(a/100)\n",
    "    \n",
    "    if s == 0:\n",
    "        dst = img[:]\n",
    "    else:\n",
    "        dst = cv2.addWeighted(img1,1-n,img2,n,0)\n",
    "        \n",
    "    cv2.imshow('Result', dst)\n",
    "    \n",
    "    if cv2.waitKey(1) & 0xFF == 27:\n",
    "        break\n",
    "    \n",
    "cv2.destroyAllWindows()"
   ]
  },
  {
   "cell_type": "code",
   "execution_count": 26,
   "id": "30c40286",
   "metadata": {},
   "outputs": [],
   "source": [
    "cv2.destroyAllWindows()"
   ]
  },
  {
   "cell_type": "code",
   "execution_count": null,
   "id": "d38d3a90",
   "metadata": {},
   "outputs": [],
   "source": []
  }
 ],
 "metadata": {
  "kernelspec": {
   "display_name": "Python 3 (ipykernel)",
   "language": "python",
   "name": "python3"
  },
  "language_info": {
   "codemirror_mode": {
    "name": "ipython",
    "version": 3
   },
   "file_extension": ".py",
   "mimetype": "text/x-python",
   "name": "python",
   "nbconvert_exporter": "python",
   "pygments_lexer": "ipython3",
   "version": "3.10.4"
  }
 },
 "nbformat": 4,
 "nbformat_minor": 5
}
