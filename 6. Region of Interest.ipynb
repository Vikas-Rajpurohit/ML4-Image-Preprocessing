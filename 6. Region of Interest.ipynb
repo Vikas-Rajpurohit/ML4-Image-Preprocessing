{
 "cells": [
  {
   "cell_type": "markdown",
   "id": "8c4c2c9a",
   "metadata": {},
   "source": [
    "## 1. Region of Interest"
   ]
  },
  {
   "cell_type": "code",
   "execution_count": 1,
   "id": "1cf3dbea",
   "metadata": {},
   "outputs": [],
   "source": [
    "import numpy as np\n",
    "import cv2"
   ]
  },
  {
   "cell_type": "code",
   "execution_count": 2,
   "id": "1683764f",
   "metadata": {},
   "outputs": [],
   "source": [
    "import cv2\n",
    "import numpy as np\n",
    "\n",
    "# Assuming 'image' is the original image\n",
    "image = cv2.imread('Images/Image1.jpg')\n",
    "\n",
    "# Define the ROI points for the cone shape\n",
    "roi_points = np.array([[(50, 500), (200, 200), (350, 500)]], dtype=np.int32)\n",
    "\n",
    "# Create a blank mask image of the same size as the original image\n",
    "mask = np.zeros_like(image)\n",
    "\n",
    "# Fill the ROI region in the mask with white\n",
    "cv2.fillPoly(mask, roi_points, (255, 255, 255))  # Assuming color images, use (255) for grayscale\n",
    "\n",
    "# Apply the mask to the original image using bitwise AND\n",
    "result = cv2.bitwise_and(image, mask)\n",
    "\n",
    "# Display the result\n",
    "cv2.imshow('ROI',result)\n",
    "\n",
    "cv2.waitKey(0)\n",
    "cv2.destroyAllWindows()"
   ]
  },
  {
   "cell_type": "code",
   "execution_count": null,
   "id": "ebc120f3",
   "metadata": {},
   "outputs": [],
   "source": []
  }
 ],
 "metadata": {
  "kernelspec": {
   "display_name": "Python 3 (ipykernel)",
   "language": "python",
   "name": "python3"
  },
  "language_info": {
   "codemirror_mode": {
    "name": "ipython",
    "version": 3
   },
   "file_extension": ".py",
   "mimetype": "text/x-python",
   "name": "python",
   "nbconvert_exporter": "python",
   "pygments_lexer": "ipython3",
   "version": "3.10.4"
  }
 },
 "nbformat": 4,
 "nbformat_minor": 5
}
